{
 "cells": [
  {
   "cell_type": "code",
   "execution_count": 1,
   "metadata": {},
   "outputs": [],
   "source": [
    "import numpy as np\n",
    "import pandas as pd\n",
    "import matplotlib.pyplot as plt\n",
    "import seaborn as sns"
   ]
  },
  {
   "cell_type": "markdown",
   "metadata": {},
   "source": [
    "### Creating a toy image\n",
    "- Our Job here is to detect  vertical edge"
   ]
  },
  {
   "cell_type": "code",
   "execution_count": 8,
   "metadata": {},
   "outputs": [
    {
     "data": {
      "text/plain": [
       "([], [])"
      ]
     },
     "execution_count": 8,
     "metadata": {},
     "output_type": "execute_result"
    },
    {
     "data": {
      "image/png": "[encoded data removed]",
      "text/plain": [
       "<Figure size 432x288 with 1 Axes>"
      ]
     },
     "metadata": {},
     "output_type": "display_data"
    }
   ],
   "source": [
    "image = np.zeros((10,10))\n",
    "image[:,:5] = 50\n",
    "\n",
    "plt.imshow(image,cmap='gray')\n",
    "\n",
    "plt.xticks([])\n",
    "plt.yticks([])"
   ]
  },
  {
   "cell_type": "markdown",
   "metadata": {},
   "source": [
    "### Let us use a 3x3 filter"
   ]
  },
  {
   "cell_type": "code",
   "execution_count": 48,
   "metadata": {},
   "outputs": [
    {
     "data": {
      "text/plain": [
       "array([[ 1,  0, -1],\n",
       "       [ 1,  0, -1],\n",
       "       [ 1,  0, -1]])"
      ]
     },
     "execution_count": 48,
     "metadata": {},
     "output_type": "execute_result"
    }
   ],
   "source": [
    "filter_img = np.array([[1,0,-1],[1,0,-1],[1,0,-1]])\n",
    "filter_img"
   ]
  },
  {
   "cell_type": "code",
   "execution_count": 163,
   "metadata": {},
   "outputs": [],
   "source": [
    "def convol(matrix,filter_mat):\n",
    "    padding = 0\n",
    "    stride = 1\n",
    "    target_shape = (matrix.shape[0] + 1 - filter_img.shape[0] ,matrix.shape[1] + 1 - filter_img.shape[0])\n",
    "    ans = np.zeros(target_shape)\n",
    "    print(ans)\n",
    "    \n",
    "    i = 0\n",
    "    j = 0\n",
    "    \n",
    "    \n",
    "    for row in range(matrix.shape[0]):\n",
    "        \n",
    "        \n",
    "        for col in range(matrix.shape[1]):\n",
    "            \n",
    "           \n",
    "            ans[i,j] = np.sum(matrix[i:i + filter_img.shape[0], j :j + filter_img.shape[1]]*filter_mat)\n",
    "            \n",
    "            \n",
    "            j+=1\n",
    "            \n",
    "            \n",
    "            print(i,j)\n",
    "            if j + filter_img.shape[1]>= matrix.shape[1]:\n",
    "                #print(\"X\")\n",
    "                j = 0\n",
    "                break\n",
    "           \n",
    "        \n",
    "        \n",
    "        \n",
    "        #print(i)\n",
    "        if i + filter_img.shape[0] >= matrix.shape[0]:\n",
    "            #print(start_row)\n",
    "            break\n",
    "        \n",
    "        i+=1\n",
    "        \n",
    "    return ans"
   ]
  },
  {
   "cell_type": "code",
   "execution_count": 165,
   "metadata": {},
   "outputs": [
    {
     "name": "stdout",
     "output_type": "stream",
     "text": [
      "[[0. 0. 0. 0. 0. 0. 0. 0.]\n",
      " [0. 0. 0. 0. 0. 0. 0. 0.]\n",
      " [0. 0. 0. 0. 0. 0. 0. 0.]\n",
      " [0. 0. 0. 0. 0. 0. 0. 0.]\n",
      " [0. 0. 0. 0. 0. 0. 0. 0.]\n",
      " [0. 0. 0. 0. 0. 0. 0. 0.]\n",
      " [0. 0. 0. 0. 0. 0. 0. 0.]\n",
      " [0. 0. 0. 0. 0. 0. 0. 0.]]\n",
      "[[ 50.   0. -50.]\n",
      " [ 50.   0. -50.]\n",
      " [ 50.   0. -50.]]\n",
      "0 1\n",
      "[[ 50.   0. -50.]\n",
      " [ 50.   0. -50.]\n",
      " [ 50.   0. -50.]]\n",
      "0 2\n",
      "[[ 50.   0. -50.]\n",
      " [ 50.   0. -50.]\n",
      " [ 50.   0. -50.]]\n",
      "0 3\n",
      "[[50.  0. -0.]\n",
      " [50.  0. -0.]\n",
      " [50.  0. -0.]]\n",
      "0 4\n",
      "[[50.  0. -0.]\n",
      " [50.  0. -0.]\n",
      " [50.  0. -0.]]\n",
      "0 5\n",
      "[[ 0.  0. -0.]\n",
      " [ 0.  0. -0.]\n",
      " [ 0.  0. -0.]]\n",
      "0 6\n",
      "[[ 0.  0. -0.]\n",
      " [ 0.  0. -0.]\n",
      " [ 0.  0. -0.]]\n",
      "0 7\n",
      "[[ 50.   0. -50.]\n",
      " [ 50.   0. -50.]\n",
      " [ 50.   0. -50.]]\n",
      "1 1\n",
      "[[ 50.   0. -50.]\n",
      " [ 50.   0. -50.]\n",
      " [ 50.   0. -50.]]\n",
      "1 2\n",
      "[[ 50.   0. -50.]\n",
      " [ 50.   0. -50.]\n",
      " [ 50.   0. -50.]]\n",
      "1 3\n",
      "[[50.  0. -0.]\n",
      " [50.  0. -0.]\n",
      " [50.  0. -0.]]\n",
      "1 4\n",
      "[[50.  0. -0.]\n",
      " [50.  0. -0.]\n",
      " [50.  0. -0.]]\n",
      "1 5\n",
      "[[ 0.  0. -0.]\n",
      " [ 0.  0. -0.]\n",
      " [ 0.  0. -0.]]\n",
      "1 6\n",
      "[[ 0.  0. -0.]\n",
      " [ 0.  0. -0.]\n",
      " [ 0.  0. -0.]]\n",
      "1 7\n",
      "[[ 50.   0. -50.]\n",
      " [ 50.   0. -50.]\n",
      " [ 50.   0. -50.]]\n",
      "2 1\n",
      "[[ 50.   0. -50.]\n",
      " [ 50.   0. -50.]\n",
      " [ 50.   0. -50.]]\n",
      "2 2\n",
      "[[ 50.   0. -50.]\n",
      " [ 50.   0. -50.]\n",
      " [ 50.   0. -50.]]\n",
      "2 3\n",
      "[[50.  0. -0.]\n",
      " [50.  0. -0.]\n",
      " [50.  0. -0.]]\n",
      "2 4\n",
      "[[50.  0. -0.]\n",
      " [50.  0. -0.]\n",
      " [50.  0. -0.]]\n",
      "2 5\n",
      "[[ 0.  0. -0.]\n",
      " [ 0.  0. -0.]\n",
      " [ 0.  0. -0.]]\n",
      "2 6\n",
      "[[ 0.  0. -0.]\n",
      " [ 0.  0. -0.]\n",
      " [ 0.  0. -0.]]\n",
      "2 7\n",
      "[[ 50.   0. -50.]\n",
      " [ 50.   0. -50.]\n",
      " [ 50.   0. -50.]]\n",
      "3 1\n",
      "[[ 50.   0. -50.]\n",
      " [ 50.   0. -50.]\n",
      " [ 50.   0. -50.]]\n",
      "3 2\n",
      "[[ 50.   0. -50.]\n",
      " [ 50.   0. -50.]\n",
      " [ 50.   0. -50.]]\n",
      "3 3\n",
      "[[50.  0. -0.]\n",
      " [50.  0. -0.]\n",
      " [50.  0. -0.]]\n",
      "3 4\n",
      "[[50.  0. -0.]\n",
      " [50.  0. -0.]\n",
      " [50.  0. -0.]]\n",
      "3 5\n",
      "[[ 0.  0. -0.]\n",
      " [ 0.  0. -0.]\n",
      " [ 0.  0. -0.]]\n",
      "3 6\n",
      "[[ 0.  0. -0.]\n",
      " [ 0.  0. -0.]\n",
      " [ 0.  0. -0.]]\n",
      "3 7\n",
      "[[ 50.   0. -50.]\n",
      " [ 50.   0. -50.]\n",
      " [ 50.   0. -50.]]\n",
      "4 1\n",
      "[[ 50.   0. -50.]\n",
      " [ 50.   0. -50.]\n",
      " [ 50.   0. -50.]]\n",
      "4 2\n",
      "[[ 50.   0. -50.]\n",
      " [ 50.   0. -50.]\n",
      " [ 50.   0. -50.]]\n",
      "4 3\n",
      "[[50.  0. -0.]\n",
      " [50.  0. -0.]\n",
      " [50.  0. -0.]]\n",
      "4 4\n",
      "[[50.  0. -0.]\n",
      " [50.  0. -0.]\n",
      " [50.  0. -0.]]\n",
      "4 5\n",
      "[[ 0.  0. -0.]\n",
      " [ 0.  0. -0.]\n",
      " [ 0.  0. -0.]]\n",
      "4 6\n",
      "[[ 0.  0. -0.]\n",
      " [ 0.  0. -0.]\n",
      " [ 0.  0. -0.]]\n",
      "4 7\n",
      "[[ 50.   0. -50.]\n",
      " [ 50.   0. -50.]\n",
      " [ 50.   0. -50.]]\n",
      "5 1\n",
      "[[ 50.   0. -50.]\n",
      " [ 50.   0. -50.]\n",
      " [ 50.   0. -50.]]\n",
      "5 2\n",
      "[[ 50.   0. -50.]\n",
      " [ 50.   0. -50.]\n",
      " [ 50.   0. -50.]]\n",
      "5 3\n",
      "[[50.  0. -0.]\n",
      " [50.  0. -0.]\n",
      " [50.  0. -0.]]\n",
      "5 4\n",
      "[[50.  0. -0.]\n",
      " [50.  0. -0.]\n",
      " [50.  0. -0.]]\n",
      "5 5\n",
      "[[ 0.  0. -0.]\n",
      " [ 0.  0. -0.]\n",
      " [ 0.  0. -0.]]\n",
      "5 6\n",
      "[[ 0.  0. -0.]\n",
      " [ 0.  0. -0.]\n",
      " [ 0.  0. -0.]]\n",
      "5 7\n",
      "[[ 50.   0. -50.]\n",
      " [ 50.   0. -50.]\n",
      " [ 50.   0. -50.]]\n",
      "6 1\n",
      "[[ 50.   0. -50.]\n",
      " [ 50.   0. -50.]\n",
      " [ 50.   0. -50.]]\n",
      "6 2\n",
      "[[ 50.   0. -50.]\n",
      " [ 50.   0. -50.]\n",
      " [ 50.   0. -50.]]\n",
      "6 3\n",
      "[[50.  0. -0.]\n",
      " [50.  0. -0.]\n",
      " [50.  0. -0.]]\n",
      "6 4\n",
      "[[50.  0. -0.]\n",
      " [50.  0. -0.]\n",
      " [50.  0. -0.]]\n",
      "6 5\n",
      "[[ 0.  0. -0.]\n",
      " [ 0.  0. -0.]\n",
      " [ 0.  0. -0.]]\n",
      "6 6\n",
      "[[ 0.  0. -0.]\n",
      " [ 0.  0. -0.]\n",
      " [ 0.  0. -0.]]\n",
      "6 7\n",
      "[[ 50.   0. -50.]\n",
      " [ 50.   0. -50.]\n",
      " [ 50.   0. -50.]]\n",
      "7 1\n",
      "[[ 50.   0. -50.]\n",
      " [ 50.   0. -50.]\n",
      " [ 50.   0. -50.]]\n",
      "7 2\n",
      "[[ 50.   0. -50.]\n",
      " [ 50.   0. -50.]\n",
      " [ 50.   0. -50.]]\n",
      "7 3\n",
      "[[50.  0. -0.]\n",
      " [50.  0. -0.]\n",
      " [50.  0. -0.]]\n",
      "7 4\n",
      "[[50.  0. -0.]\n",
      " [50.  0. -0.]\n",
      " [50.  0. -0.]]\n",
      "7 5\n",
      "[[ 0.  0. -0.]\n",
      " [ 0.  0. -0.]\n",
      " [ 0.  0. -0.]]\n",
      "7 6\n",
      "[[ 0.  0. -0.]\n",
      " [ 0.  0. -0.]\n",
      " [ 0.  0. -0.]]\n",
      "7 7\n"
     ]
    }
   ],
   "source": [
    "final_img = convol(image,filter_img)"
   ]
  },
  {
   "cell_type": "code",
   "execution_count": 168,
   "metadata": {},
   "outputs": [
    {
     "data": {
      "text/plain": [
       "([], [])"
      ]
     },
     "execution_count": 168,
     "metadata": {},
     "output_type": "execute_result"
    },
    {
     "data": {
      "image/png": "[encoded data removed]",
      "text/plain": [
       "<Figure size 432x288 with 1 Axes>"
      ]
     },
     "metadata": {},
     "output_type": "display_data"
    }
   ],
   "source": [
    "plt.imshow(final_img,cmap='gray')\n",
    "plt.xticks([])\n",
    "plt.yticks([])"
   ]
  },
  {
   "cell_type": "code",
   "execution_count": null,
   "metadata": {},
   "outputs": [],
   "source": []
  }
 ],
 "metadata": {
  "kernelspec": {
   "display_name": "Python 3",
   "language": "python",
   "name": "python3"
  },
  "language_info": {
   "codemirror_mode": {
    "name": "ipython",
    "version": 3
   },
   "file_extension": ".py",
   "mimetype": "text/x-python",
   "name": "python",
   "nbconvert_exporter": "python",
   "pygments_lexer": "ipython3",
   "version": "3.8.5"
  }
 },
 "nbformat": 4,
 "nbformat_minor": 4
}
